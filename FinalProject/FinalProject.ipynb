{
 "cells": [
  {
   "cell_type": "markdown",
   "metadata": {},
   "source": [
    "# Merced land classification"
   ]
  },
  {
   "cell_type": "markdown",
   "metadata": {},
   "source": [
    "Some default settings."
   ]
  },
  {
   "cell_type": "code",
   "execution_count": 1,
   "metadata": {
    "collapsed": true
   },
   "outputs": [],
   "source": [
    "%config InlineBackend.figure_format='retina'\n",
    "%matplotlib inline\n",
    "\n",
    "import warnings\n",
    "warnings.simplefilter(action=\"ignore\", category=FutureWarning)\n",
    "warnings.simplefilter(action=\"ignore\", category=UserWarning)\n",
    "warnings.simplefilter(action=\"ignore\", category=RuntimeWarning)\n",
    "warnings.simplefilter(action='ignore', category=DeprecationWarning)\n",
    "\n",
    "import numpy as np\n",
    "np.random.seed(42)\n",
    "import matplotlib.pyplot as plt\n",
    "plt.rcParams[\"figure.figsize\"] = (8, 8)\n",
    "plt.rcParams[\"font.size\"] = 14\n",
    "from sklearn.utils import check_random_state\n"
   ]
  },
  {
   "cell_type": "markdown",
   "metadata": {},
   "source": [
    "First, we convert all .tif images to .png for convenience (ImageDatGenerator only accepts .png or .jpeg)"
   ]
  },
  {
   "cell_type": "code",
   "execution_count": 2,
   "metadata": {
    "collapsed": false
   },
   "outputs": [],
   "source": [
    "import os, glob, subprocess\n",
    "from PIL import Image\n",
    "\n",
    "#Convert all input images from .tif to .png\n",
    "thispath = os.getcwd()\n",
    "cmd=str( 'mkdir %s/InputFiles'%thispath )\n",
    "os.system(cmd)\n",
    "cats = os.listdir( '%s/UCMerced_LandUse/Images/'%thispath )\n",
    "for cat in cats:\n",
    "    newpath=str( '%s/InputFiles/%s'%(thispath,cat) )\n",
    "    cmd=str( 'mkdir -p %s'%(newpath) )\n",
    "    os.system(cmd)\n",
    "    fullpath = str( \"%s/UCMerced_LandUse/Images/%s\"%(thispath,cat) ) \n",
    "    images = glob.glob(\"%s/*.tif\"%fullpath)\n",
    "    for infile in images:\n",
    "        f, e = os.path.splitext(infile)\n",
    "        outfile = newpath + \"/\" + f.split(\"/\")[-1] + \".png\"\n",
    "        if infile != outfile:\n",
    "            im = Image.open(infile)\n",
    "            im.save(outfile, format = \"png\")"
   ]
  },
  {
   "cell_type": "markdown",
   "metadata": {},
   "source": [
    "Now generate 10 new images for every image in the dataset (\"data augmentation\")"
   ]
  },
  {
   "cell_type": "code",
   "execution_count": 3,
   "metadata": {
    "collapsed": false
   },
   "outputs": [
    {
     "name": "stderr",
     "output_type": "stream",
     "text": [
      "Using Theano backend.\n"
     ]
    },
    {
     "name": "stdout",
     "output_type": "stream",
     "text": [
      "Transforming files in /Users/Vincenzo/Desktop/EPFL/AdvancedComputingTechniques/Exercises/advanced-comp-2017/FinalProject/InputFiles/agricultural\n",
      "Transforming files in /Users/Vincenzo/Desktop/EPFL/AdvancedComputingTechniques/Exercises/advanced-comp-2017/FinalProject/InputFiles/airplane\n",
      "Transforming files in /Users/Vincenzo/Desktop/EPFL/AdvancedComputingTechniques/Exercises/advanced-comp-2017/FinalProject/InputFiles/baseballdiamond\n",
      "Transforming files in /Users/Vincenzo/Desktop/EPFL/AdvancedComputingTechniques/Exercises/advanced-comp-2017/FinalProject/InputFiles/beach\n",
      "Transforming files in /Users/Vincenzo/Desktop/EPFL/AdvancedComputingTechniques/Exercises/advanced-comp-2017/FinalProject/InputFiles/buildings\n",
      "Transforming files in /Users/Vincenzo/Desktop/EPFL/AdvancedComputingTechniques/Exercises/advanced-comp-2017/FinalProject/InputFiles/chaparral\n",
      "Transforming files in /Users/Vincenzo/Desktop/EPFL/AdvancedComputingTechniques/Exercises/advanced-comp-2017/FinalProject/InputFiles/denseresidential\n",
      "Transforming files in /Users/Vincenzo/Desktop/EPFL/AdvancedComputingTechniques/Exercises/advanced-comp-2017/FinalProject/InputFiles/forest\n",
      "Transforming files in /Users/Vincenzo/Desktop/EPFL/AdvancedComputingTechniques/Exercises/advanced-comp-2017/FinalProject/InputFiles/freeway\n",
      "Transforming files in /Users/Vincenzo/Desktop/EPFL/AdvancedComputingTechniques/Exercises/advanced-comp-2017/FinalProject/InputFiles/golfcourse\n",
      "Transforming files in /Users/Vincenzo/Desktop/EPFL/AdvancedComputingTechniques/Exercises/advanced-comp-2017/FinalProject/InputFiles/harbor\n",
      "Transforming files in /Users/Vincenzo/Desktop/EPFL/AdvancedComputingTechniques/Exercises/advanced-comp-2017/FinalProject/InputFiles/intersection\n",
      "Transforming files in /Users/Vincenzo/Desktop/EPFL/AdvancedComputingTechniques/Exercises/advanced-comp-2017/FinalProject/InputFiles/mediumresidential\n",
      "Transforming files in /Users/Vincenzo/Desktop/EPFL/AdvancedComputingTechniques/Exercises/advanced-comp-2017/FinalProject/InputFiles/mobilehomepark\n",
      "Transforming files in /Users/Vincenzo/Desktop/EPFL/AdvancedComputingTechniques/Exercises/advanced-comp-2017/FinalProject/InputFiles/overpass\n",
      "Transforming files in /Users/Vincenzo/Desktop/EPFL/AdvancedComputingTechniques/Exercises/advanced-comp-2017/FinalProject/InputFiles/parkinglot\n",
      "Transforming files in /Users/Vincenzo/Desktop/EPFL/AdvancedComputingTechniques/Exercises/advanced-comp-2017/FinalProject/InputFiles/river\n",
      "Transforming files in /Users/Vincenzo/Desktop/EPFL/AdvancedComputingTechniques/Exercises/advanced-comp-2017/FinalProject/InputFiles/runway\n",
      "Transforming files in /Users/Vincenzo/Desktop/EPFL/AdvancedComputingTechniques/Exercises/advanced-comp-2017/FinalProject/InputFiles/sparseresidential\n",
      "Transforming files in /Users/Vincenzo/Desktop/EPFL/AdvancedComputingTechniques/Exercises/advanced-comp-2017/FinalProject/InputFiles/storagetanks\n",
      "Transforming files in /Users/Vincenzo/Desktop/EPFL/AdvancedComputingTechniques/Exercises/advanced-comp-2017/FinalProject/InputFiles/tenniscourt\n"
     ]
    }
   ],
   "source": [
    "from keras.preprocessing.image import ImageDataGenerator, array_to_img, img_to_array, load_img\n",
    "\n",
    "#Create an instance of ImageDataGenerator\n",
    "datagen = ImageDataGenerator(\n",
    "            rescale=1./255,\n",
    "            rotation_range=180,\n",
    "            width_shift_range=0.2,\n",
    "            height_shift_range=0.2,\n",
    "            shear_range=0.2,\n",
    "            zoom_range=0.2,\n",
    "            channel_shift_range=0.1,\n",
    "            fill_mode='nearest')\n",
    "\n",
    "#Make 10 \"random\" copies for each image of each category.\n",
    "for cat in cats:\n",
    "    directory = str( '%s/InputFiles/%s'%(thispath,cat) )\n",
    "    print('Transforming files in %s'%directory)\n",
    "    files=os.listdir( directory )\n",
    "    filenum=0\n",
    "    for file in files:\n",
    "        img = load_img( directory + '/' + file )\n",
    "        x = img_to_array(img) \n",
    "        x = x.reshape((1,) + x.shape)  \n",
    "        i = 0\n",
    "        for batch in datagen.flow(x, batch_size=1,\n",
    "                              save_to_dir=directory, save_prefix=cat+'_new_'+str(filenum), save_format='png'):\n",
    "            i += 1\n",
    "            if i >= 10:\n",
    "                break\n",
    "        filenum += 1"
   ]
  },
  {
   "cell_type": "code",
   "execution_count": null,
   "metadata": {
    "collapsed": true
   },
   "outputs": [],
   "source": []
  }
 ],
 "metadata": {
  "kernelspec": {
   "display_name": "Python [conda root]",
   "language": "python",
   "name": "conda-root-py"
  },
  "language_info": {
   "codemirror_mode": {
    "name": "ipython",
    "version": 3
   },
   "file_extension": ".py",
   "mimetype": "text/x-python",
   "name": "python",
   "nbconvert_exporter": "python",
   "pygments_lexer": "ipython3",
   "version": "3.5.2"
  }
 },
 "nbformat": 4,
 "nbformat_minor": 1
}
